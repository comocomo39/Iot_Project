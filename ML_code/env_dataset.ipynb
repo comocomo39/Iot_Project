{
 "cells": [
  {
   "cell_type": "code",
   "execution_count": null,
   "metadata": {},
   "outputs": [],
   "source": [
    "# convert_csv_to_header.py\n",
    "import csv, textwrap, pathlib, tempfile\n",
    "\n",
    "csv_path   = \"indoor_data.csv\"          # <--  il file che mi hai passato\n",
    "header_out = \"indoor_dataset.h\"\n",
    "\n",
    "temps, hums, dusts = [], [], []\n",
    "with open(csv_path, newline='') as f:\n",
    "    r = csv.DictReader(f)               # supponiamo le colonne: temp, hum, dust\n",
    "    for row in r:\n",
    "        temps.append(float(row['field3']))\n",
    "        hums.append (float(row['field4']))\n",
    "        dusts.append(float(row['field7']))\n",
    "\n",
    "def dump_array(name, values):\n",
    "    body = \", \".join(f\"{v:.2f}\" for v in values)\n",
    "    wrapped = textwrap.fill(body, 80)\n",
    "    return f\"static const float {name}[] = {{\\n{wrapped}\\n}};\\n\"\n",
    "\n",
    "with open(header_out, \"w\") as h:\n",
    "    h.write(\"#ifndef INDOOR_DATASET_H\\n#define INDOOR_DATASET_H\\n\\n\")\n",
    "    h.write(f\"#define DATASET_LEN {len(temps)}\\n\\n\")\n",
    "    h.write(dump_array(\"TEMP_SERIES\",  temps))\n",
    "    h.write(dump_array(\"HUM_SERIES\",   hums))\n",
    "    h.write(dump_array(\"DUST_SERIES\",  dusts))\n",
    "    h.write(\"\\n#endif\\n\")\n",
    "print(\"Creato\", header_out)\n"
   ]
  }
 ],
 "metadata": {
  "language_info": {
   "name": "python"
  }
 },
 "nbformat": 4,
 "nbformat_minor": 2
}
